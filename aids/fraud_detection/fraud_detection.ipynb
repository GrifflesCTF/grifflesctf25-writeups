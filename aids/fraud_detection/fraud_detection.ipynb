{
 "cells": [
  {
   "cell_type": "markdown",
   "id": "6c307920-ca01-4a32-8de6-8cbc7a5d2c3f",
   "metadata": {
    "id": "6c307920-ca01-4a32-8de6-8cbc7a5d2c3f"
   },
   "source": [
    "# **Fraud Detection in Business Transactions**"
   ]
  },
  {
   "cell_type": "markdown",
   "id": "aab8f4e0-0396-4173-ad1d-d26aa65eff03",
   "metadata": {
    "id": "aab8f4e0-0396-4173-ad1d-d26aa65eff03"
   },
   "source": [
    "## **Objective**"
   ]
  },
  {
   "cell_type": "markdown",
   "id": "a2365db5-d61c-4ab4-a4a5-45c8286d742d",
   "metadata": {
    "id": "a2365db5-d61c-4ab4-a4a5-45c8286d742d"
   },
   "source": [
    "Your goal is to modify and submit your tampered `fraud.csv` file containing the poisoned transactions, ensuring that the company's fraud detection system does not classify any of the transactions as fradulent.\n",
    "\n",
    "In `fraud.csv`, you will see the following fields:\n",
    "\n",
    "0. `Id` - Transaction ID\n",
    "\n",
    "1. `PurchaseAmount` - The amount spent in the transaction\n",
    "\n",
    "2. `NumItems` - The number of items bought\n",
    "\n",
    "3. `ShippingDistance` - The distance between where the item bought and where the item was shipped to, in kilometers\n",
    "\n",
    "4. `PaymentMethod` - The method used to pay for the items\n",
    "\n",
    "    * `0` = Credit Card\n",
    "\n",
    "    * `1` = Debit Card\n",
    "\n",
    "    * `2` = PayPal\n",
    "\n",
    "    * `3` = Gift Card\n",
    "\n",
    "5. `TransactionHour` (from 0 to 23) - The time of day when the transaction was made"
   ]
  },
  {
   "cell_type": "markdown",
   "id": "94ec0075-e372-4331-a2ab-b7fa514076db",
   "metadata": {
    "id": "94ec0075-e372-4331-a2ab-b7fa514076db"
   },
   "source": [
    "## **1. Loading a pretrained `K-Nearest Neighbours` model**"
   ]
  },
  {
   "cell_type": "markdown",
   "id": "27d13251-b1a8-42c1-996b-99e74a95df55",
   "metadata": {
    "id": "27d13251-b1a8-42c1-996b-99e74a95df55"
   },
   "source": [
    "### Import necessary Python libraries"
   ]
  },
  {
   "cell_type": "markdown",
   "id": "f18575ca-f11c-434f-80a9-2d2954318168",
   "metadata": {},
   "source": [
    "If you are running this locally, ensure the following Python libraries have been installed:\n",
    "* `pandas`: https://pandas.pydata.org/\n",
    "* `scikit-learn`: https://scikit-learn.org/stable/index.html\n",
    "* `numpy`: https://numpy.org/"
   ]
  },
  {
   "cell_type": "code",
   "execution_count": null,
   "id": "4ec84c89-94c4-47bc-9243-042063213e78",
   "metadata": {
    "id": "4ec84c89-94c4-47bc-9243-042063213e78"
   },
   "outputs": [],
   "source": [
    "import pandas as pd\n",
    "import sklearn\n",
    "import pickle\n",
    "import numpy as np"
   ]
  },
  {
   "cell_type": "markdown",
   "id": "306ac315-9e97-419f-bf35-3970fa7360ff",
   "metadata": {
    "id": "306ac315-9e97-419f-bf35-3970fa7360ff"
   },
   "source": [
    "**If you are using Google Colab, upload the `fraud_classifier.pkl` file under the \"Files\" section now.** Remember to uncomment the correct lines depending on if you are running this notebook on Google Colab or not."
   ]
  },
  {
   "cell_type": "code",
   "execution_count": null,
   "id": "ffe85d75-5f27-454a-b8d2-3c83ed9994f0",
   "metadata": {
    "colab": {
     "base_uri": "https://localhost:8080/",
     "height": 315
    },
    "id": "ffe85d75-5f27-454a-b8d2-3c83ed9994f0",
    "outputId": "d2808db7-0b61-44cf-d2c7-e0bd3abcdc4a"
   },
   "outputs": [],
   "source": [
    "model_filepath = \"./content/fraud_classifier.pkl\"\n",
    "\n",
    "# If using Google Colab, uncomment the line below\n",
    "# model_filepath = \"/content/fraud_classifier.pkl\"\n",
    "\n",
    "with open(model_filepath, 'rb') as f:\n",
    "    KNN = pickle.load(f)\n",
    "\n",
    "print(KNN)"
   ]
  },
  {
   "cell_type": "markdown",
   "id": "1e1e822c-6fe3-4fa2-928e-15e7725b658c",
   "metadata": {
    "id": "1e1e822c-6fe3-4fa2-928e-15e7725b658c"
   },
   "source": [
    "## **2. Preview the fradulent transactions**"
   ]
  },
  {
   "cell_type": "markdown",
   "id": "eeea56fc-7327-4c5b-b745-b3b3e2fee5e2",
   "metadata": {
    "id": "eeea56fc-7327-4c5b-b745-b3b3e2fee5e2"
   },
   "source": [
    "**If you are using Google Colab, upload the `fraud.csv` file under the \"Files\" section now.**\n",
    "\n",
    "The following code block displays the `fraud.csv` file, where most of the transactions are flagged as fraudulent. Remember to uncomment the correct lines depending on if you are running this notebook on Google Colab or not."
   ]
  },
  {
   "cell_type": "code",
   "execution_count": null,
   "id": "5d94e53e-011b-4884-ac9d-276d0578a150",
   "metadata": {
    "id": "5d94e53e-011b-4884-ac9d-276d0578a150"
   },
   "outputs": [],
   "source": [
    "# If using Google Colab, uncomment the line below\n",
    "# fraud_data = pd.read_csv(\"/content/fraud.csv\")\n",
    "\n",
    "# Otherwise, if you are running this notebook locally, uncomment the line below\n",
    "# fraud_data = pd.read_csv(\"./content/fraud.csv\")\n",
    "\n",
    "fraud_data"
   ]
  },
  {
   "cell_type": "markdown",
   "id": "d4b50b87-1ebb-4313-8ca4-0e7144c07b7f",
   "metadata": {
    "id": "d4b50b87-1ebb-4313-8ca4-0e7144c07b7f"
   },
   "source": [
    "We can see how many transactions are currently flagged as fraudulent."
   ]
  },
  {
   "cell_type": "code",
   "execution_count": null,
   "id": "4d0390b7-7a58-42fb-9766-2323239052ef",
   "metadata": {
    "id": "4d0390b7-7a58-42fb-9766-2323239052ef"
   },
   "outputs": [],
   "source": [
    "preds = KNN.predict(fraud_data.drop(\"Id\", axis=1))\n",
    "fraudulent_transactions = (preds == 1).sum()\n",
    "total_transactions = len(preds)\n",
    "percentage_fraudulent = (fraudulent_transactions / total_transactions) * 100\n",
    "\n",
    "print(f\"{percentage_fraudulent}% of transactions were classified as fraudulent!\")"
   ]
  },
  {
   "cell_type": "markdown",
   "id": "650820fa-6fe9-4e56-a78c-a75bf362e9e3",
   "metadata": {},
   "source": [
    "Additionally, we can also input custom data into the model to see whether that transaction is classified as fraud or not."
   ]
  },
  {
   "cell_type": "code",
   "execution_count": null,
   "id": "a0187070-b2af-45d4-9962-5c7162775074",
   "metadata": {},
   "outputs": [],
   "source": [
    "# Modify the variables below\n",
    "PurchaseAmount = 100\n",
    "NumItems = 100\n",
    "ShippingDistance = 100\n",
    "PaymentMethod = 0\n",
    "TransactionHour = 0\n",
    "\n",
    "is_fraud = KNN.predict(np.array([PurchaseAmount, NumItems, ShippingDistance, PaymentMethod, TransactionHour]).reshape(1, -1))\n",
    "\n",
    "if is_fraud == 1:\n",
    "    print(\"This transaction is fraudulent! ❌❌\")\n",
    "else:\n",
    "    print(\"This transaction is not fraudulent. ✅✅\")"
   ]
  },
  {
   "cell_type": "markdown",
   "id": "611a41d0-7d28-4987-94dc-f6f7b029ef5a",
   "metadata": {},
   "source": [
    "## **Your task now is to modify `fraud.csv` so that most of the transactions are no longer classified as fraudulent. You can re-run the code cells above to help you in your modifications.**"
   ]
  }
 ],
 "metadata": {
  "colab": {
   "provenance": []
  },
  "kernelspec": {
   "display_name": "Python 3 (ipykernel)",
   "language": "python",
   "name": "python3"
  },
  "language_info": {
   "codemirror_mode": {
    "name": "ipython",
    "version": 3
   },
   "file_extension": ".py",
   "mimetype": "text/x-python",
   "name": "python",
   "nbconvert_exporter": "python",
   "pygments_lexer": "ipython3",
   "version": "3.10.0"
  }
 },
 "nbformat": 4,
 "nbformat_minor": 5
}
