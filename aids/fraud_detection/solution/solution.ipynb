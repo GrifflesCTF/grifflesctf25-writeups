{
 "cells": [
  {
   "cell_type": "code",
   "execution_count": null,
   "id": "4c441d81-77e5-4081-89a6-d5611132acb5",
   "metadata": {},
   "outputs": [],
   "source": [
    "import numpy as np\n",
    "import pandas as pd\n",
    "\n",
    "def generate_legitimate_transactions(fraud_csv_path):\n",
    "    # Load the fraud.csv file\n",
    "    fraud_df = pd.read_csv(fraud_csv_path)\n",
    "    n_samples = fraud_df.shape[0]\n",
    "    \n",
    "    # Generate legitimate transactions\n",
    "    # Exponential distribution that has a higher probability of sampling low purchase amounts\n",
    "    legit_purchase = np.round(np.random.exponential(scale=30, size=n_samples), 2)\n",
    "    # Low random number of items\n",
    "    legit_items = np.random.randint(1, 5, size=n_samples)\n",
    "    # Low shipping distances using a uniform distribution\n",
    "    legit_distance = np.round(np.random.uniform(0, 50, size=n_samples), 1)\n",
    "    # Select only credit card (0), or debit card (1) payment methods\n",
    "    legit_payment = np.random.choice([0, 1], size=n_samples, p=[0.7, 0.3])\n",
    "    # Daytime to evening hours\n",
    "    legit_hours = np.random.randint(8, 20, size=n_samples) \n",
    "\n",
    "  \n",
    "    df = pd.DataFrame({\n",
    "        'Id': np.arange(1, n_samples+1),\n",
    "        'PurchaseAmount': legit_purchase,\n",
    "        'NumItems': legit_items,\n",
    "        'ShippingDistance': legit_distance,\n",
    "        'PaymentMethod': legit_payment,\n",
    "        'TransactionHour': legit_hours\n",
    "    })\n",
    "\n",
    "    # Replace the Id column with the one from fraud.csv\n",
    "    df[\"Id\"] = fraud_df[\"Id\"]\n",
    "\n",
    "    return df\n",
    "\n",
    "# Generate legitimate transactions\n",
    "legit_transactions = generate_legitimate_transactions(\"./fraud.csv\")\n",
    "\n",
    "# Save to CSV\n",
    "legit_transactions.to_csv('./user.csv', index=False)"
   ]
  }
 ],
 "metadata": {
  "kernelspec": {
   "display_name": "Python 3 (ipykernel)",
   "language": "python",
   "name": "python3"
  },
  "language_info": {
   "codemirror_mode": {
    "name": "ipython",
    "version": 3
   },
   "file_extension": ".py",
   "mimetype": "text/x-python",
   "name": "python",
   "nbconvert_exporter": "python",
   "pygments_lexer": "ipython3",
   "version": "3.10.0"
  }
 },
 "nbformat": 4,
 "nbformat_minor": 5
}
